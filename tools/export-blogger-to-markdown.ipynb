{
 "cells": [
  {
   "cell_type": "code",
   "execution_count": null,
   "metadata": {},
   "outputs": [],
   "source": [
    "import json\n",
    "import pandas as pd\n",
    "\n",
    "from markdownify import markdownify\n",
    "\n",
    "from datetime import date, datetime, time\n",
    "from backports.datetime_fromisoformat import MonkeyPatch"
   ]
  },
  {
   "cell_type": "code",
   "execution_count": null,
   "metadata": {},
   "outputs": [],
   "source": [
    "MonkeyPatch.patch_fromisoformat()"
   ]
  },
  {
   "cell_type": "markdown",
   "metadata": {},
   "source": [
    "Use this url to export data\n",
    "\n",
    "https://www.blogger.com/feeds/{{blog_id}}/posts/default?alt=json&orderby=published&sortorder=ascending&max-results=1000"
   ]
  },
  {
   "cell_type": "code",
   "execution_count": null,
   "metadata": {},
   "outputs": [],
   "source": [
    "data = json.load(open(\"blog.json\", \"r\"))"
   ]
  },
  {
   "cell_type": "code",
   "execution_count": null,
   "metadata": {},
   "outputs": [],
   "source": [
    "entries = data[\"feed\"][\"entry\"]"
   ]
  },
  {
   "cell_type": "code",
   "execution_count": null,
   "metadata": {},
   "outputs": [],
   "source": [
    "posts = []\n",
    "for entry in entries:\n",
    "    \n",
    "    title = entry[\"title\"][\"$t\"]\n",
    "    content = entry[\"content\"][\"$t\"]\n",
    "    \n",
    "    thumbnail = entry[\"media$thumbnail\"][\"url\"] if entry.get(\"media$thumbnail\") else None\n",
    "    \n",
    "    tags = [c.get(\"term\") for c in entry.get(\"category\", [])]\n",
    "    \n",
    "    publish_datetime = entry[\"published\"][\"$t\"]\n",
    "    \n",
    "    url = entry[\"link\"][-1][\"href\"]\n",
    "    \n",
    "    markdown = markdownify(content)\n",
    "    \n",
    "    posts.append({\n",
    "        \"title\": title,\n",
    "        \"content\": content,\n",
    "        \"markdown\": markdown,\n",
    "        \"thumbnail\": thumbnail,\n",
    "        \"tags\": tags,\n",
    "        \"url\": url,\n",
    "        \"publish_datetime\": publish_datetime,\n",
    "        \n",
    "    })\n",
    "    \n",
    "    #print(entry)\n",
    "    #break"
   ]
  },
  {
   "cell_type": "code",
   "execution_count": null,
   "metadata": {},
   "outputs": [],
   "source": [
    "df = pd.DataFrame(posts)"
   ]
  },
  {
   "cell_type": "code",
   "execution_count": null,
   "metadata": {},
   "outputs": [],
   "source": [
    "df"
   ]
  },
  {
   "cell_type": "code",
   "execution_count": null,
   "metadata": {},
   "outputs": [],
   "source": [
    "def generate_mdx(row):\n",
    "\n",
    "    dt = datetime.fromisoformat(row.publish_datetime, \"%Y-%m-%dT%H:%M:%S.%f%z\")\n",
    "    \n",
    "    lines = [\"---\"]\n",
    "    \n",
    "    lines.append(\"title: '{}'\".format(row.title))\n",
    "    lines.append(\"date: '{}'\".format(dt.strftime(\"%Y-%m-%d %H:%M:%S\")))\n",
    "    \n",
    "    lines.append(\"---\")\n",
    "    lines.append(\"\")\n",
    "    \n",
    "    lines.append(row.markdown)\n",
    "    \n",
    "    return \"\\n\".join(lines)"
   ]
  },
  {
   "cell_type": "code",
   "execution_count": null,
   "metadata": {},
   "outputs": [],
   "source": [
    "base_path = \"/home/null/git/kittinan.github.io/posts\"\n",
    "\n",
    "for i, row in df.iterrows():\n",
    "    \n",
    "    dt = datetime.fromisoformat(row.publish_datetime, \"%Y-%m-%dT%H:%M:%S.%f%z\")\n",
    "    \n",
    "    \n",
    "    mdx = generate_mdx(row)\n",
    "    name = row.url.split(\"/\")[-1]\n",
    "\n",
    "    file_name = \"{}-{}\".format(dt.strftime(\"%Y-%m-%d\"), name)\n",
    "    \n",
    "    save_path = f\"{base_path}/{file_name}.md\"\n",
    "    \n",
    "    with open(save_path, \"w\") as f:\n",
    "        f.write(mdx)\n"
   ]
  },
  {
   "cell_type": "code",
   "execution_count": null,
   "metadata": {},
   "outputs": [],
   "source": []
  }
 ],
 "metadata": {
  "kernelspec": {
   "display_name": "Python 3",
   "language": "python",
   "name": "python3"
  },
  "language_info": {
   "codemirror_mode": {
    "name": "ipython",
    "version": 3
   },
   "file_extension": ".py",
   "mimetype": "text/x-python",
   "name": "python",
   "nbconvert_exporter": "python",
   "pygments_lexer": "ipython3",
   "version": "3.6.10"
  }
 },
 "nbformat": 4,
 "nbformat_minor": 4
}
